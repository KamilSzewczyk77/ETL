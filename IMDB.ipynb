{
 "cells": [
  {
   "cell_type": "code",
   "execution_count": 1,
   "metadata": {},
   "outputs": [],
   "source": [
    "import requests\n",
    "from bs4 import BeautifulSoup\n",
    "import json"
   ]
  },
  {
   "cell_type": "code",
   "execution_count": 2,
   "metadata": {},
   "outputs": [
    {
     "name": "stdout",
     "output_type": "stream",
     "text": [
      "Choose genre:comedy\n"
     ]
    }
   ],
   "source": [
    "genre = input('Choose genre:')"
   ]
  },
  {
   "cell_type": "code",
   "execution_count": 3,
   "metadata": {},
   "outputs": [
    {
     "data": {
      "text/plain": [
       "'https://www.imdb.com/search/title?genres=comedy'"
      ]
     },
     "execution_count": 3,
     "metadata": {},
     "output_type": "execute_result"
    }
   ],
   "source": [
    "BASE_URL = 'https://www.imdb.com'\n",
    "search_pattern = '{}/search/title?genres={}'     \n",
    "search_url = search_pattern.format(BASE_URL, genre)\n",
    "search_url"
   ]
  },
  {
   "cell_type": "code",
   "execution_count": 4,
   "metadata": {},
   "outputs": [
    {
     "data": {
      "text/plain": [
       "<Response [200]>"
      ]
     },
     "execution_count": 4,
     "metadata": {},
     "output_type": "execute_result"
    }
   ],
   "source": [
    "response = requests.get(search_url)\n",
    "response"
   ]
  },
  {
   "cell_type": "code",
   "execution_count": 5,
   "metadata": {},
   "outputs": [],
   "source": [
    "soup = BeautifulSoup(response.text, 'lxml')\n",
    "links = soup.select('h3.lister-item-header a')"
   ]
  },
  {
   "cell_type": "code",
   "execution_count": 6,
   "metadata": {},
   "outputs": [],
   "source": [
    "uris = [link['href'] for link in links]\n",
    "movie_urls = [f'{BASE_URL}{uri}' for uri in uris]"
   ]
  },
  {
   "cell_type": "code",
   "execution_count": 7,
   "metadata": {},
   "outputs": [],
   "source": [
    "def extract_movie (url):\n",
    "    response = requests.get(url)\n",
    "    soup = BeautifulSoup(response.text, 'lxml') \n",
    "    \n",
    "    meta_raw = soup.select_one(\n",
    "        'script[type=\"application/ld+json\"]')\n",
    "    metadata = json.loads(meta_raw.text)\n",
    "    return metadata"
   ]
  },
  {
   "cell_type": "code",
   "execution_count": 8,
   "metadata": {},
   "outputs": [
    {
     "data": {
      "text/plain": [
       "{'@context': 'http://schema.org',\n",
       " '@type': 'Movie',\n",
       " 'url': '/title/tt5848272/',\n",
       " 'name': 'Ralph Breaks the Internet',\n",
       " 'image': 'https://m.media-amazon.com/images/M/MV5BMTYyNzEyNDAzOV5BMl5BanBnXkFtZTgwNTk3NDczNjM@._V1_.jpg',\n",
       " 'genre': ['Animation', 'Adventure', 'Comedy', 'Family', 'Fantasy'],\n",
       " 'contentRating': 'PG',\n",
       " 'actor': [{'@type': 'Person',\n",
       "   'url': '/name/nm0000604/',\n",
       "   'name': 'John C. Reilly'},\n",
       "  {'@type': 'Person', 'url': '/name/nm0798971/', 'name': 'Sarah Silverman'},\n",
       "  {'@type': 'Person', 'url': '/name/nm2933757/', 'name': 'Gal Gadot'},\n",
       "  {'@type': 'Person', 'url': '/name/nm0378245/', 'name': 'Taraji P. Henson'}],\n",
       " 'director': [{'@type': 'Person',\n",
       "   'url': '/name/nm1601882/',\n",
       "   'name': 'Phil Johnston'},\n",
       "  {'@type': 'Person', 'url': '/name/nm0601781/', 'name': 'Rich Moore'}],\n",
       " 'creator': [{'@type': 'Person',\n",
       "   'url': '/name/nm1601882/',\n",
       "   'name': 'Phil Johnston'},\n",
       "  {'@type': 'Person', 'url': '/name/nm0962596/', 'name': 'Pamela Ribon'},\n",
       "  {'@type': 'Person', 'url': '/name/nm0601781/', 'name': 'Rich Moore'},\n",
       "  {'@type': 'Person', 'url': '/name/nm1601882/', 'name': 'Phil Johnston'},\n",
       "  {'@type': 'Person', 'url': '/name/nm0714114/', 'name': 'Jim Reardon'},\n",
       "  {'@type': 'Person', 'url': '/name/nm0962596/', 'name': 'Pamela Ribon'},\n",
       "  {'@type': 'Person', 'url': '/name/nm2888684/', 'name': 'Josie Trinidad'},\n",
       "  {'@type': 'Person', 'url': '/name/nm8566357/', 'name': 'Kelly Younger'},\n",
       "  {'@type': 'Organization', 'url': '/company/co0074039/'},\n",
       "  {'@type': 'Organization', 'url': '/company/co0008970/'}],\n",
       " 'description': 'Ralph Breaks the Internet is a movie starring John C. Reilly, Sarah Silverman, and Gal Gadot. Six years after the events of \"Wreck-It Ralph,\" Ralph and Vanellope, now friends, discover a wi-fi router in their arcade, leading them...',\n",
       " 'datePublished': '2018-11-21',\n",
       " 'keywords': 'wifi,sequel,disney princess,computer animation,3d animation',\n",
       " 'aggregateRating': {'@type': 'AggregateRating',\n",
       "  'ratingCount': 18611,\n",
       "  'bestRating': '10.0',\n",
       "  'worstRating': '1.0',\n",
       "  'ratingValue': '7.5'},\n",
       " 'review': {'@type': 'Review',\n",
       "  'itemReviewed': {'@type': 'CreativeWork', 'url': '/title/tt5848272/'},\n",
       "  'author': {'@type': 'Person', 'name': 'ghuddleston'},\n",
       "  'dateCreated': '2018-11-23',\n",
       "  'inLanguage': 'English',\n",
       "  'name': 'Might be the worst movie Ive ever seen',\n",
       "  'reviewBody': 'I loved the first movie and this was such a disappointment. It is full of advertisements and cross promotional content. Storyline was nonexistent, endless subplots and one popup after another. Dont waste your money on this piece of trash.',\n",
       "  'reviewRating': {'@type': 'Rating',\n",
       "   'worstRating': '1',\n",
       "   'bestRating': '10',\n",
       "   'ratingValue': '1'}},\n",
       " 'duration': 'PT1H52M',\n",
       " 'trailer': {'@type': 'VideoObject',\n",
       "  'name': 'UK Trailer',\n",
       "  'embedUrl': '/video/imdb/vi1706015257',\n",
       "  'thumbnail': {'@type': 'ImageObject',\n",
       "   'contentUrl': 'https://m.media-amazon.com/images/M/MV5BMzY0YWVlYmEtOWNhOC00OWNmLWJiMGMtMzcyOWRhMTE2OGQyXkEyXkFqcGdeQXRodW1ibmFpbC1pbml0aWFsaXplcg@@._V1_.jpg'},\n",
       "  'thumbnailUrl': 'https://m.media-amazon.com/images/M/MV5BMzY0YWVlYmEtOWNhOC00OWNmLWJiMGMtMzcyOWRhMTE2OGQyXkEyXkFqcGdeQXRodW1ibmFpbC1pbml0aWFsaXplcg@@._V1_.jpg',\n",
       "  'description': \"Vanellope von Schweetz and Wreck-It Ralph leave the arcade world behind to explore the uncharted and thrilling world of the internet. On a quest to save Vanellope's racing game, how will these two misfits ever succeed in this vast new world?\",\n",
       "  'uploadDate': '2018-10-10T13:34:39Z'}}"
      ]
     },
     "execution_count": 8,
     "metadata": {},
     "output_type": "execute_result"
    }
   ],
   "source": [
    "extract_movie(movie_urls[0])"
   ]
  },
  {
   "cell_type": "code",
   "execution_count": 9,
   "metadata": {
    "scrolled": false
   },
   "outputs": [],
   "source": [
    "\n",
    "mappings = {\n",
    "    \"title\": 'name',\n",
    "    \"description\":'description',\n",
    "    \"director\": 'director',\n",
    "    \"actors\": 'actor',\n",
    "    \"rating\": 'aggregateRating',\n",
    "    \"cover_url\": 'image',\n",
    "    'pg': 'contentRating',\n",
    "    'published': 'datePublished'\n",
    "}"
   ]
  },
  {
   "cell_type": "code",
   "execution_count": 10,
   "metadata": {},
   "outputs": [],
   "source": [
    "def map_to_movie_row(data):\n",
    "    return {\n",
    "        own_key: data.get(external_key, None) for own_key, external_key in mappings.items()\n",
    "    } "
   ]
  },
  {
   "cell_type": "code",
   "execution_count": 11,
   "metadata": {},
   "outputs": [],
   "source": [
    "example_data = extract_movie(movie_urls[0])"
   ]
  },
  {
   "cell_type": "code",
   "execution_count": 12,
   "metadata": {},
   "outputs": [
    {
     "data": {
      "text/plain": [
       "{'title': 'Ralph Breaks the Internet',\n",
       " 'description': 'Ralph Breaks the Internet is a movie starring John C. Reilly, Sarah Silverman, and Gal Gadot. Six years after the events of \"Wreck-It Ralph,\" Ralph and Vanellope, now friends, discover a wi-fi router in their arcade, leading them...',\n",
       " 'director': [{'@type': 'Person',\n",
       "   'url': '/name/nm1601882/',\n",
       "   'name': 'Phil Johnston'},\n",
       "  {'@type': 'Person', 'url': '/name/nm0601781/', 'name': 'Rich Moore'}],\n",
       " 'actors': [{'@type': 'Person',\n",
       "   'url': '/name/nm0000604/',\n",
       "   'name': 'John C. Reilly'},\n",
       "  {'@type': 'Person', 'url': '/name/nm0798971/', 'name': 'Sarah Silverman'},\n",
       "  {'@type': 'Person', 'url': '/name/nm2933757/', 'name': 'Gal Gadot'},\n",
       "  {'@type': 'Person', 'url': '/name/nm0378245/', 'name': 'Taraji P. Henson'}],\n",
       " 'rating': {'@type': 'AggregateRating',\n",
       "  'ratingCount': 18611,\n",
       "  'bestRating': '10.0',\n",
       "  'worstRating': '1.0',\n",
       "  'ratingValue': '7.5'},\n",
       " 'cover_url': 'https://m.media-amazon.com/images/M/MV5BMTYyNzEyNDAzOV5BMl5BanBnXkFtZTgwNTk3NDczNjM@._V1_.jpg',\n",
       " 'pg': 'PG',\n",
       " 'published': '2018-11-21'}"
      ]
     },
     "execution_count": 12,
     "metadata": {},
     "output_type": "execute_result"
    }
   ],
   "source": [
    "map_to_movie_row(example_data)"
   ]
  },
  {
   "cell_type": "code",
   "execution_count": 13,
   "metadata": {},
   "outputs": [],
   "source": [
    "def clean_actors(raw_actors):\n",
    "    return \", \".join(actor['name'] for actor in raw_actors)\n",
    "\n",
    "def clean_directors(one_or_many):\n",
    "    if isinstance(one_or_many, list):\n",
    "        return clean_actors(one_or_many)\n",
    "    \n",
    "    if one_or_many:\n",
    "        return one_or_many['name']\n",
    "    \n",
    "    return \"gall ANonim\"\n",
    "\n",
    "cleaners = {\n",
    "    \"actors\": clean_actors,\n",
    "    \"rating\": lambda x: x['ratingValue'] if x else 0,\n",
    "    \"director\": clean_directors,\n",
    "    'pg': lambda x: x.replace(\"PG-\", \"\") if x else 18\n",
    "}"
   ]
  },
  {
   "cell_type": "code",
   "execution_count": 14,
   "metadata": {},
   "outputs": [],
   "source": [
    "def apply_cleaners(row):\n",
    "    for key, cleaner in cleaners.items():\n",
    "        row[key] = cleaner(row[key])\n",
    "    return row"
   ]
  },
  {
   "cell_type": "code",
   "execution_count": 15,
   "metadata": {},
   "outputs": [
    {
     "data": {
      "text/plain": [
       "{'title': 'Ralph Breaks the Internet',\n",
       " 'description': 'Ralph Breaks the Internet is a movie starring John C. Reilly, Sarah Silverman, and Gal Gadot. Six years after the events of \"Wreck-It Ralph,\" Ralph and Vanellope, now friends, discover a wi-fi router in their arcade, leading them...',\n",
       " 'director': 'Phil Johnston, Rich Moore',\n",
       " 'actors': 'John C. Reilly, Sarah Silverman, Gal Gadot, Taraji P. Henson',\n",
       " 'rating': '7.5',\n",
       " 'cover_url': 'https://m.media-amazon.com/images/M/MV5BMTYyNzEyNDAzOV5BMl5BanBnXkFtZTgwNTk3NDczNjM@._V1_.jpg',\n",
       " 'pg': 'PG',\n",
       " 'published': '2018-11-21'}"
      ]
     },
     "execution_count": 15,
     "metadata": {},
     "output_type": "execute_result"
    }
   ],
   "source": [
    "apply_cleaners(map_to_movie_row(example_data))"
   ]
  },
  {
   "cell_type": "code",
   "execution_count": 16,
   "metadata": {},
   "outputs": [],
   "source": [
    "from functools import reduce\n",
    "def process_movie_url(url):\n",
    "    pipe = [\n",
    "        extract_movie,\n",
    "        map_to_movie_row,\n",
    "        apply_cleaners\n",
    "    ]\n",
    "    \n",
    "    return reduce(lambda result, fn: fn(result), pipe, url)\n",
    "\n",
    "    apply_cleaners(map_to_movie_row(extract_movie(url)))"
   ]
  },
  {
   "cell_type": "code",
   "execution_count": 17,
   "metadata": {},
   "outputs": [],
   "source": [
    "items = (process_movie_url(url) for url in movie_urls)"
   ]
  },
  {
   "cell_type": "code",
   "execution_count": 18,
   "metadata": {},
   "outputs": [
    {
     "data": {
      "text/plain": [
       "{'title': 'Ralph Breaks the Internet',\n",
       " 'description': 'Ralph Breaks the Internet is a movie starring John C. Reilly, Sarah Silverman, and Gal Gadot. Six years after the events of \"Wreck-It Ralph,\" Ralph and Vanellope, now friends, discover a wi-fi router in their arcade, leading them...',\n",
       " 'director': 'Phil Johnston, Rich Moore',\n",
       " 'actors': 'John C. Reilly, Sarah Silverman, Gal Gadot, Taraji P. Henson',\n",
       " 'rating': '7.5',\n",
       " 'cover_url': 'https://m.media-amazon.com/images/M/MV5BMTYyNzEyNDAzOV5BMl5BanBnXkFtZTgwNTk3NDczNjM@._V1_.jpg',\n",
       " 'pg': 'PG',\n",
       " 'published': '2018-11-21'}"
      ]
     },
     "execution_count": 18,
     "metadata": {},
     "output_type": "execute_result"
    }
   ],
   "source": [
    "next(items)"
   ]
  },
  {
   "cell_type": "code",
   "execution_count": 19,
   "metadata": {},
   "outputs": [
    {
     "data": {
      "text/plain": [
       "{'title': 'Spider-Man: Into the Spider-Verse',\n",
       " 'description': 'Spider-Man: Into the Spider-Verse is a movie starring Shameik Moore, Jake Johnson, and Hailee Steinfeld. Miles Morales becomes the Spider-Man of his reality and crosses paths with his counterparts from other dimensions to stop a...',\n",
       " 'director': 'Bob Persichetti, Peter Ramsey, Rodney Rothman',\n",
       " 'actors': 'Shameik Moore, Jake Johnson, Hailee Steinfeld, Mahershala Ali',\n",
       " 'rating': '8.6',\n",
       " 'cover_url': 'https://m.media-amazon.com/images/M/MV5BMjMzMzQ0NzI5Nl5BMl5BanBnXkFtZTgwNjc2NTY0NjM@._V1_.jpg',\n",
       " 'pg': 'PG',\n",
       " 'published': '2018-12-12'}"
      ]
     },
     "execution_count": 19,
     "metadata": {},
     "output_type": "execute_result"
    }
   ],
   "source": [
    "next(items)"
   ]
  },
  {
   "cell_type": "code",
   "execution_count": 20,
   "metadata": {},
   "outputs": [
    {
     "data": {
      "text/plain": [
       "[{'title': 'The Ballad of Buster Scruggs',\n",
       "  'description': 'The Ballad of Buster Scruggs is a movie starring Tim Blake Nelson, Willie Watson, and Clancy Brown. An anthology film comprising six stories, each dealing with a different aspect of life in the Old West.',\n",
       "  'director': 'Ethan Coen, Joel Coen',\n",
       "  'actors': 'Tim Blake Nelson, Willie Watson, Clancy Brown, Danny McCarthy',\n",
       "  'rating': '7.4',\n",
       "  'cover_url': 'https://m.media-amazon.com/images/M/MV5BYjRkYTI3M2EtZWQ4Ny00OTA2LWFmMTMtY2E4MTEyZmNjOTMxXkEyXkFqcGdeQXVyNDg4NjY5OTQ@._V1_.jpg',\n",
       "  'pg': 'R',\n",
       "  'published': '2018-11-09'},\n",
       " {'title': 'The Marvelous Mrs. Maisel',\n",
       "  'description': 'The Marvelous Mrs. Maisel is a TV series starring Rachel Brosnahan, Tony Shalhoub, and Michael Zegen. A housewife in the 1950s decides to become a stand-up comic.',\n",
       "  'director': 'gall ANonim',\n",
       "  'actors': 'Rachel Brosnahan, Tony Shalhoub, Michael Zegen, Marin Hinkle',\n",
       "  'rating': '8.7',\n",
       "  'cover_url': 'https://m.media-amazon.com/images/M/MV5BNTBlNWE5NjEtMTFjOC00MzZmLTkwNWQtNzU0MzM0MTVjNTM5XkEyXkFqcGdeQXVyNjkwNzEwMzU@._V1_.jpg',\n",
       "  'pg': 'TV-MA',\n",
       "  'published': '2017-03-17'},\n",
       " {'title': 'The Grinch',\n",
       "  'description': 'The Grinch is a movie starring Benedict Cumberbatch, Cameron Seely, and Rashida Jones. A grumpy Grinch plots to ruin Christmas for the village of Whoville.',\n",
       "  'director': 'Yarrow Cheney, Scott Mosier',\n",
       "  'actors': 'Benedict Cumberbatch, Cameron Seely, Rashida Jones, Pharrell Williams',\n",
       "  'rating': '6.4',\n",
       "  'cover_url': 'https://m.media-amazon.com/images/M/MV5BYmE5Yjg0MzktYzgzMi00YTFiLWJjYTItY2M5MmI1ODI4MDY3XkEyXkFqcGdeQXVyMTMxODk2OTU@._V1_.jpg',\n",
       "  'pg': 'PG',\n",
       "  'published': '2018-11-08'},\n",
       " {'title': 'Vice',\n",
       "  'description': 'Vice is a movie starring Christian Bale, Amy Adams, and Steve Carell. The story of Dick Cheney (Christian Bale), an unassuming bureaucratic Washington insider, who quietly wielded immense power as Vice President to George W. Bush,...',\n",
       "  'director': 'Adam McKay',\n",
       "  'actors': 'Christian Bale, Amy Adams, Steve Carell, Sam Rockwell',\n",
       "  'rating': 0,\n",
       "  'cover_url': 'https://m.media-amazon.com/images/M/MV5BMTY1NjM0MzgxMV5BMl5BanBnXkFtZTgwNDc4NTY0NjM@._V1_.jpg',\n",
       "  'pg': 'R',\n",
       "  'published': '2018-12-25'},\n",
       " {'title': 'The Christmas Chronicles',\n",
       "  'description': 'The Christmas Chronicles is a movie starring Kurt Russell, Darby Camp, and Judah Lewis. The story of sister and brother, Kate and Teddy Pierce, whose Christmas Eve plan to catch Santa Claus on camera turns into an unexpected journey...',\n",
       "  'director': 'Clay Kaytis',\n",
       "  'actors': 'Kurt Russell, Darby Camp, Judah Lewis, Oliver Hudson',\n",
       "  'rating': '7.3',\n",
       "  'cover_url': 'https://m.media-amazon.com/images/M/MV5BNTA3NjU3OTM2MV5BMl5BanBnXkFtZTgwNjQ2MzE1NjM@._V1_.jpg',\n",
       "  'pg': 'TV-PG',\n",
       "  'published': '2018-11-22'},\n",
       " {'title': 'The Big Bang Theory',\n",
       "  'description': 'The Big Bang Theory is a TV series starring Johnny Galecki, Jim Parsons, and Kaley Cuoco. A woman who moves into an apartment across the hall from two brilliant but socially awkward physicists shows them how little they know about...',\n",
       "  'director': 'gall ANonim',\n",
       "  'actors': 'Johnny Galecki, Jim Parsons, Kaley Cuoco, Simon Helberg',\n",
       "  'rating': '8.2',\n",
       "  'cover_url': 'https://m.media-amazon.com/images/M/MV5BY2FmZTY5YTktOWRlYy00NmIyLWE0ZmQtZDg2YjlmMzczZDZiXkEyXkFqcGdeQXVyNjg4NzAyOTA@._V1_.jpg',\n",
       "  'pg': 'TV-PG',\n",
       "  'published': '2006-05-01'},\n",
       " {'title': 'The Favourite',\n",
       "  'description': 'The Favourite is a movie starring Olivia Colman, Emma Stone, and Rachel Weisz. In early 18th century England, a frail Queen Anne (Colman) occupies the throne and her close friend Lady Sarah (Weisz) governs the country in her stead....',\n",
       "  'director': 'Yorgos Lanthimos',\n",
       "  'actors': 'Olivia Colman, Emma Stone, Rachel Weisz, Nicholas Hoult',\n",
       "  'rating': '8.3',\n",
       "  'cover_url': 'https://m.media-amazon.com/images/M/MV5BMTg1NzQwMDQxNV5BMl5BanBnXkFtZTgwNDg2NDYyNjM@._V1_.jpg',\n",
       "  'pg': 'R',\n",
       "  'published': '2018-11-23'},\n",
       " {'title': 'Smallfoot',\n",
       "  'description': 'Smallfoot is a movie starring Channing Tatum, James Corden, and Zendaya. A Yeti is convinced that the elusive creatures known as \"humans\" really do exist.',\n",
       "  'director': 'Karey Kirkpatrick, Jason Reisig',\n",
       "  'actors': 'Channing Tatum, James Corden, Zendaya, Common',\n",
       "  'rating': '6.7',\n",
       "  'cover_url': 'https://m.media-amazon.com/images/M/MV5BMTc5NzI1NjY4MV5BMl5BanBnXkFtZTgwNDIxNTIyNDM@._V1_.jpg',\n",
       "  'pg': 'PG',\n",
       "  'published': '2018-09-20'},\n",
       " {'title': 'The Office',\n",
       "  'description': 'The Office is a TV series starring Steve Carell, Jenna Fischer, and John Krasinski. A mockumentary on a group of typical office workers, where the workday consists of ego clashes, inappropriate behavior, and tedium.',\n",
       "  'director': 'gall ANonim',\n",
       "  'actors': 'Steve Carell, Jenna Fischer, John Krasinski, Rainn Wilson',\n",
       "  'rating': '8.8',\n",
       "  'cover_url': 'https://m.media-amazon.com/images/M/MV5BMTgzNjAzMDE0NF5BMl5BanBnXkFtZTcwNTEyMzM3OA@@._V1_.jpg',\n",
       "  'pg': 'TV-PG',\n",
       "  'published': '2005-03-24'},\n",
       " {'title': 'Friends',\n",
       "  'description': 'Friends is a TV series starring Jennifer Aniston, Courteney Cox, and Lisa Kudrow. Follows the personal and professional lives of six twenty to thirty-something-year-old friends living in Manhattan.',\n",
       "  'director': 'gall ANonim',\n",
       "  'actors': 'Jennifer Aniston, Courteney Cox, Lisa Kudrow, Matt LeBlanc',\n",
       "  'rating': '8.9',\n",
       "  'cover_url': 'https://m.media-amazon.com/images/M/MV5BNDVkYjU0MzctMWRmZi00NTkxLTgwZWEtOWVhYjZlYjllYmU4XkEyXkFqcGdeQXVyNTA4NzY1MzY@._V1_.jpg',\n",
       "  'pg': 'TV-14',\n",
       "  'published': '1994-09-22'},\n",
       " {'title': \"National Lampoon's Christmas Vacation\",\n",
       "  'description': \"National Lampoon's Christmas Vacation is a movie starring Chevy Chase, Beverly D'Angelo, and Juliette Lewis. The Griswold family's plans for a big family Christmas predictably turn into a big disaster.\",\n",
       "  'director': 'Jeremiah S. Chechik',\n",
       "  'actors': \"Chevy Chase, Beverly D'Angelo, Juliette Lewis, Johnny Galecki\",\n",
       "  'rating': '7.6',\n",
       "  'cover_url': 'https://m.media-amazon.com/images/M/MV5BMGZkMWQ2MzMtYTkxYS00OThmLWI0ZTQtNmY0ZTkyY2E4MjliXkEyXkFqcGdeQXVyMTQxNzMzNDI@._V1_.jpg',\n",
       "  'pg': '13',\n",
       "  'published': '1989-11-30'},\n",
       " {'title': 'How the Grinch Stole Christmas',\n",
       "  'description': 'How the Grinch Stole Christmas is a movie starring Jim Carrey, Taylor Momsen, and Kelley. On the outskirts of Whoville, there lives a green, revenge-seeking Grinch who plans on ruining the Christmas holiday for all of the citizens...',\n",
       "  'director': 'Ron Howard',\n",
       "  'actors': 'Jim Carrey, Taylor Momsen, Kelley, Jeffrey Tambor',\n",
       "  'rating': '6.1',\n",
       "  'cover_url': 'https://m.media-amazon.com/images/M/MV5BNWNiNTczNzEtMjQyZC00MjFmLTkzMDMtODk4ZGMyZmE0N2E4XkEyXkFqcGdeQXVyMTMxODk2OTU@._V1_.jpg',\n",
       "  'pg': 'PG',\n",
       "  'published': '2000-11-17'},\n",
       " {'title': 'Crazy Rich Asians',\n",
       "  'description': \"Crazy Rich Asians is a movie starring Constance Wu, Henry Golding, and Michelle Yeoh. This contemporary romantic comedy, based on a global bestseller, follows native New Yorker Rachel Chu to Singapore to meet her boyfriend's family.\",\n",
       "  'director': 'Jon M. Chu',\n",
       "  'actors': 'Constance Wu, Henry Golding, Michelle Yeoh, Gemma Chan',\n",
       "  'rating': '7.1',\n",
       "  'cover_url': 'https://m.media-amazon.com/images/M/MV5BMTYxNDMyOTAxN15BMl5BanBnXkFtZTgwMDg1ODYzNTM@._V1_.jpg',\n",
       "  'pg': '13',\n",
       "  'published': '2018-08-15'},\n",
       " {'title': 'Love Actually',\n",
       "  'description': 'Love Actually is a movie starring Hugh Grant, Martine McCutcheon, and Liam Neeson. Follows the lives of eight very different couples in dealing with their love lives in various loosely interrelated tales all set during a frantic...',\n",
       "  'director': 'Richard Curtis',\n",
       "  'actors': 'Hugh Grant, Martine McCutcheon, Liam Neeson, Laura Linney',\n",
       "  'rating': '7.6',\n",
       "  'cover_url': 'https://m.media-amazon.com/images/M/MV5BMTY4NjQ5NDc0Nl5BMl5BanBnXkFtZTYwNjk5NDM3._V1_.jpg',\n",
       "  'pg': 'R',\n",
       "  'published': '2003-11-14'},\n",
       " {'title': 'Green Book',\n",
       "  'description': 'Green Book is a movie starring Viggo Mortensen, Mahershala Ali, and Linda Cardellini. A working-class Italian-American bouncer becomes the driver of an African-American classical pianist on a tour of venues through the 1960s...',\n",
       "  'director': 'Peter Farrelly',\n",
       "  'actors': 'Viggo Mortensen, Mahershala Ali, Linda Cardellini, Sebastian Maniscalco',\n",
       "  'rating': '8.3',\n",
       "  'cover_url': 'https://m.media-amazon.com/images/M/MV5BMjMyNzExNzQ5OV5BMl5BanBnXkFtZTgwNjM2MjIxNjM@._V1_.jpg',\n",
       "  'pg': '13',\n",
       "  'published': '2018-11-16'},\n",
       " {'title': 'This Is Us',\n",
       "  'description': 'This Is Us is a TV series starring Milo Ventimiglia, Mandy Moore, and Sterling K. Brown. A heartwarming and emotional story about a unique set of triplets, their struggles, and their wonderful parents.',\n",
       "  'director': 'gall ANonim',\n",
       "  'actors': 'Milo Ventimiglia, Mandy Moore, Sterling K. Brown, Chrissy Metz',\n",
       "  'rating': '8.7',\n",
       "  'cover_url': 'https://m.media-amazon.com/images/M/MV5BZGY3MDk3ZWYtNjA1YS00NzFhLWIxMTctOTZhOWVhZjE2Mjk0XkEyXkFqcGdeQXVyNjMxNzcwOTI@._V1_.jpg',\n",
       "  'pg': 'TV-14',\n",
       "  'published': '2016-09-20'},\n",
       " {'title': 'Under the Silver Lake',\n",
       "  'description': \"Under the Silver Lake is a movie starring Andrew Garfield, Riley Keough, and Topher Grace. Sam, intelligent but without purpose, finds a mysterious woman swimming in his apartment's pool one night. The next morning, she disappears....\",\n",
       "  'director': 'David Robert Mitchell',\n",
       "  'actors': 'Andrew Garfield, Riley Keough, Topher Grace, Callie Hernandez',\n",
       "  'rating': '6.6',\n",
       "  'cover_url': 'https://m.media-amazon.com/images/M/MV5BYjY0NTA5MGItNDU1Yy00ZmE3LWI5NGItZDY5OGUxZjYzZGQ5XkEyXkFqcGdeQXVyMTMxODk2OTU@._V1_.jpg',\n",
       "  'pg': 'R',\n",
       "  'published': '2018-06-21'},\n",
       " {'title': 'F Is for Family',\n",
       "  'description': 'F Is for Family is a TV series starring Bill Burr, Laura Dern, and Justin Long. Follow the Murphy family back to the 1970s, when kids roamed wild, beer flowed freely and nothing came between a man and his TV.',\n",
       "  'director': 'gall ANonim',\n",
       "  'actors': 'Bill Burr, Laura Dern, Justin Long, Debi Derryberry',\n",
       "  'rating': '8.0',\n",
       "  'cover_url': 'https://m.media-amazon.com/images/M/MV5BMjhiNTZhNGEtYTRhNS00NGZlLWIxNjktYzI0NDAyMTQ0NzY3XkEyXkFqcGdeQXVyNjQ2MjQ5NzM@._V1_.jpg',\n",
       "  'pg': 'TV-MA',\n",
       "  'published': '2015-12-18'},\n",
       " {'title': \"Dumplin'\",\n",
       "  'description': \"Dumplin' is a movie starring Danielle Macdonald, Jennifer Aniston, and Odeya Rush. Willowdean ('Dumplin'), the plus-size teenage daughter of a former beauty queen, signs up for her mom's Miss Teen Bluebonnet pageant as a protest...\",\n",
       "  'director': 'Anne Fletcher',\n",
       "  'actors': 'Danielle Macdonald, Jennifer Aniston, Odeya Rush, Maddie Baillio',\n",
       "  'rating': '7.0',\n",
       "  'cover_url': 'https://m.media-amazon.com/images/M/MV5BMDMyNzQyMjgtZTM2NS00ZjQwLThjYTMtZDlhOTNhNTMzNTkwXkEyXkFqcGdeQXVyMDA4NzMyOA@@._V1_.jpg',\n",
       "  'pg': '13',\n",
       "  'published': '2018-12-07'},\n",
       " {'title': 'The Good Place',\n",
       "  'description': 'The Good Place is a TV series starring Kristen Bell, William Jackson Harper, and Jameela Jamil. Four people and their otherworldly frienemy struggle in the afterlife to define what it means to be good.',\n",
       "  'director': 'gall ANonim',\n",
       "  'actors': \"Kristen Bell, William Jackson Harper, Jameela Jamil, D'Arcy Carden\",\n",
       "  'rating': '8.1',\n",
       "  'cover_url': 'https://m.media-amazon.com/images/M/MV5BZTc2ZDQ1ODMtNDZlYS00ZmEyLThlOTQtNjg0MGFlZjkzYjhlXkEyXkFqcGdeQXVyODUxOTU0OTg@._V1_.jpg',\n",
       "  'pg': 'TV-PG',\n",
       "  'published': '2016-09-19'},\n",
       " {'title': 'Elf',\n",
       "  'description': 'Elf is a movie starring Will Ferrell, James Caan, and Bob Newhart. After inadvertently wreaking havoc on the elf community due to his ungainly size, a man raised as an elf at the North Pole is sent to the U.S. in search of his true...',\n",
       "  'director': 'Jon Favreau',\n",
       "  'actors': 'Will Ferrell, James Caan, Bob Newhart, Zooey Deschanel',\n",
       "  'rating': '6.9',\n",
       "  'cover_url': 'https://m.media-amazon.com/images/M/MV5BMzUxNzkzMzQtYjIxZC00NzU0LThkYTQtZjNhNTljMTA1MDA1L2ltYWdlL2ltYWdlXkEyXkFqcGdeQXVyMTMxODk2OTU@._V1_.jpg',\n",
       "  'pg': 'PG',\n",
       "  'published': '2003-11-07'},\n",
       " {'title': 'Shameless',\n",
       "  'description': 'Shameless is a TV series starring Emmy Rossum, William H. Macy, and Ethan Cutkosky. A scrappy, fiercely loyal Chicago family makes no apologies.',\n",
       "  'director': 'gall ANonim',\n",
       "  'actors': 'Emmy Rossum, William H. Macy, Ethan Cutkosky, Shanola Hampton',\n",
       "  'rating': '8.7',\n",
       "  'cover_url': 'https://m.media-amazon.com/images/M/MV5BMjM5MzAzNTQyOV5BMl5BanBnXkFtZTgwNjY0MjcyNjM@._V1_.jpg',\n",
       "  'pg': 'TV-MA',\n",
       "  'published': '2011-01-09'},\n",
       " {'title': 'The House with a Clock in Its Walls',\n",
       "  'description': 'The House with a Clock in Its Walls is a movie starring Jack Black, Cate Blanchett, and Owen Vaccaro. A young orphan named Lewis Barnavelt aids his magical uncle in locating a clock with the power to bring about the end of the world.',\n",
       "  'director': 'Eli Roth',\n",
       "  'actors': 'Jack Black, Cate Blanchett, Owen Vaccaro, Kyle MacLachlan',\n",
       "  'rating': '6.1',\n",
       "  'cover_url': 'https://m.media-amazon.com/images/M/MV5BMTk1MzM1ODEwOV5BMl5BanBnXkFtZTgwMTE0OTA4NTM@._V1_.jpg',\n",
       "  'pg': 'PG',\n",
       "  'published': '2018-09-19'},\n",
       " {'title': 'Instant Family',\n",
       "  'description': 'Instant Family is a movie starring Mark Wahlberg, Rose Byrne, and Isabela Moner. A couple find themselves in over their heads when they foster three children.',\n",
       "  'director': 'Sean Anders',\n",
       "  'actors': 'Mark Wahlberg, Rose Byrne, Isabela Moner, Gustavo Quiroz',\n",
       "  'rating': '7.6',\n",
       "  'cover_url': 'https://m.media-amazon.com/images/M/MV5BMTkzMzgzMTc1OF5BMl5BanBnXkFtZTgwNjQ4MzE0NjM@._V1_.jpg',\n",
       "  'pg': '13',\n",
       "  'published': '2018-11-16'},\n",
       " {'title': 'Sick Note',\n",
       "  'description': 'Sick Note is a TV series starring Rupert Grint, Nick Frost, and Pippa Bennett-Warner. When Daniel Glass is misdiagnosed with a fatal disease he begins to notice how everyone around him treats him better, so he decides to keep...',\n",
       "  'director': 'gall ANonim',\n",
       "  'actors': 'Rupert Grint, Nick Frost, Pippa Bennett-Warner, Marama Corlett',\n",
       "  'rating': '6.8',\n",
       "  'cover_url': 'https://m.media-amazon.com/images/M/MV5BMWRjZjgxM2UtNjg2OC00ZDExLWI4YWQtNWUyMDQ2YjI1YzgzXkEyXkFqcGdeQXVyMTkzODUwNzk@._V1_.jpg',\n",
       "  'pg': 'TV-MA',\n",
       "  'published': '2017-11-07'},\n",
       " {'title': 'NCIS: Naval Criminal Investigative Service',\n",
       "  'description': \"NCIS: Naval Criminal Investigative Service is a TV series starring Mark Harmon, David McCallum, and Pauley Perrette. The cases of the Naval Criminal Investigative Service's Washington, D.C. Major Case Response Team, led by Special...\",\n",
       "  'director': 'gall ANonim',\n",
       "  'actors': 'Mark Harmon, David McCallum, Pauley Perrette, Sean Murray',\n",
       "  'rating': '7.9',\n",
       "  'cover_url': 'https://m.media-amazon.com/images/M/MV5BYmJmNDM4NzAtMWViMy00MDU0LWI5M2YtNzYxY2VlMTBiODM5XkEyXkFqcGdeQXVyNjg4NzAyOTA@._V1_.jpg',\n",
       "  'pg': 'TV-14',\n",
       "  'published': '2003-09-23'},\n",
       " {'title': 'Modern Family',\n",
       "  'description': \"Modern Family is a TV series starring Ed O'Neill, Sofía Vergara, and Julie Bowen. Three different but related families face trials and tribulations in their own uniquely comedic ways.\",\n",
       "  'director': 'gall ANonim',\n",
       "  'actors': \"Ed O'Neill, Sofía Vergara, Julie Bowen, Ty Burrell\",\n",
       "  'rating': '8.4',\n",
       "  'cover_url': 'https://m.media-amazon.com/images/M/MV5BMTU2NTU3OTE5NF5BMl5BanBnXkFtZTgwMDAzMjE1NjM@._V1_.jpg',\n",
       "  'pg': 'TV-PG',\n",
       "  'published': '2009-09-22'},\n",
       " {'title': 'South Park',\n",
       "  'description': 'South Park is a TV series starring Trey Parker, Matt Stone, and Isaac Hayes. Follows the misadventures of four irreverent grade-schoolers in the quiet, dysfunctional town of South Park, Colorado.',\n",
       "  'director': 'gall ANonim',\n",
       "  'actors': 'Trey Parker, Matt Stone, Isaac Hayes, Mona Marshall',\n",
       "  'rating': '8.7',\n",
       "  'cover_url': 'https://m.media-amazon.com/images/M/MV5BOGE2YWUzMDItNTg2Ny00NTUzLTlmZGYtNWMyNzVjMjQ3MThkXkEyXkFqcGdeQXVyNTA4NzY1MzY@._V1_.jpg',\n",
       "  'pg': 'TV-MA',\n",
       "  'published': '1997-08-13'},\n",
       " {'title': 'Incredibles 2',\n",
       "  'description': 'Incredibles 2 is a movie starring Craig T. Nelson, Holly Hunter, and Sarah Vowell. Bob Parr (Mr. Incredible) is left to care for the kids while Helen (Elastigirl) is out saving the world.',\n",
       "  'director': 'Brad Bird',\n",
       "  'actors': 'Craig T. Nelson, Holly Hunter, Sarah Vowell, Huck Milner',\n",
       "  'rating': '7.9',\n",
       "  'cover_url': 'https://m.media-amazon.com/images/M/MV5BMTEzNzY0OTg0NTdeQTJeQWpwZ15BbWU4MDU3OTg3MjUz._V1_.jpg',\n",
       "  'pg': 'PG',\n",
       "  'published': '2018-06-13'},\n",
       " {'title': 'Brooklyn Nine-Nine',\n",
       "  'description': \"Brooklyn Nine-Nine is a TV series starring Andre Braugher, Andy Samberg, and Stephanie Beatriz. Jake Peralta, an immature, but talented N.Y.P.D. detective in Brooklyn's 99th Precinct, comes into immediate conflict with his new...\",\n",
       "  'director': 'gall ANonim',\n",
       "  'actors': 'Andre Braugher, Andy Samberg, Stephanie Beatriz, Terry Crews',\n",
       "  'rating': '8.4',\n",
       "  'cover_url': 'https://m.media-amazon.com/images/M/MV5BNDc3NzQxODAwOV5BMl5BanBnXkFtZTgwODkwMjU2MzI@._V1_.jpg',\n",
       "  'pg': 'TV-14',\n",
       "  'published': '2013-09-17'},\n",
       " {'title': 'Welcome to Marwen',\n",
       "  'description': 'Welcome to Marwen is a movie starring Eiza González, Steve Carell, and Janelle Monáe. A victim of a brutal attack finds a unique and beautiful therapeutic outlet to help him through his recovery process.',\n",
       "  'director': 'Robert Zemeckis',\n",
       "  'actors': 'Eiza González, Steve Carell, Janelle Monáe, Diane Kruger',\n",
       "  'rating': 0,\n",
       "  'cover_url': 'https://m.media-amazon.com/images/M/MV5BMjIxMjUwMjItMGIxYS00NTlmLTgxZTQtMzg2Yjc1ZWQ3YTYxXkEyXkFqcGdeQXVyMjM4NTM5NDY@._V1_.jpg',\n",
       "  'pg': '13',\n",
       "  'published': '2018-12-21'},\n",
       " {'title': 'Home Alone',\n",
       "  'description': 'Home Alone is a movie starring Macaulay Culkin, Joe Pesci, and Daniel Stern. An eight-year-old troublemaker must protect his house from a pair of burglars when he is accidentally left home alone by his family during Christmas...',\n",
       "  'director': 'Chris Columbus',\n",
       "  'actors': 'Macaulay Culkin, Joe Pesci, Daniel Stern, John Heard',\n",
       "  'rating': '7.5',\n",
       "  'cover_url': 'https://m.media-amazon.com/images/M/MV5BMzFkM2YwOTQtYzk2Mi00N2VlLWE3NTItN2YwNDg1YmY0ZDNmXkEyXkFqcGdeQXVyMTMxODk2OTU@._V1_.jpg',\n",
       "  'pg': 'PG',\n",
       "  'published': '1990-11-16'},\n",
       " {'title': 'Once Upon a Time in Hollywood',\n",
       "  'description': 'Once Upon a Time in Hollywood is a movie starring Margot Robbie, Kurt Russell, and Leonardo DiCaprio. A faded TV actor and his stunt double embark on an odyssey to make a name for themselves in the film industry during the Helter...',\n",
       "  'director': 'Quentin Tarantino',\n",
       "  'actors': 'Margot Robbie, Kurt Russell, Leonardo DiCaprio, Brad Pitt',\n",
       "  'rating': 0,\n",
       "  'cover_url': 'https://m.media-amazon.com/images/M/MV5BMTc3ODIwNzA2NF5BMl5BanBnXkFtZTgwMTUzMjA4NTM@._V1_.jpg',\n",
       "  'pg': 18,\n",
       "  'published': '2019-07-26'},\n",
       " {'title': 'The Kominsky Method',\n",
       "  'description': 'The Kominsky Method is a TV series starring Michael Douglas, Alan Arkin, and Sarah Baker. An aging actor, who long ago enjoyed a brush with fame, makes his living as an acting coach.',\n",
       "  'director': 'gall ANonim',\n",
       "  'actors': 'Michael Douglas, Alan Arkin, Sarah Baker, Nancy Travis',\n",
       "  'rating': '8.3',\n",
       "  'cover_url': 'https://m.media-amazon.com/images/M/MV5BMjUzNDU1MDM0NF5BMl5BanBnXkFtZTgwOTM5NzI1NjM@._V1_.jpg',\n",
       "  'pg': 'TV-MA',\n",
       "  'published': '2018-11-16'},\n",
       " {'title': 'Deadpool 2',\n",
       "  'description': 'Deadpool 2 is a movie starring Ryan Reynolds, Josh Brolin, and Morena Baccarin. Foul-mouthed mutant mercenary Wade Wilson (AKA. Deadpool), brings together a team of fellow mutant rogues to protect a young boy with supernatural...',\n",
       "  'director': 'David Leitch',\n",
       "  'actors': 'Ryan Reynolds, Josh Brolin, Morena Baccarin, Julian Dennison',\n",
       "  'rating': '7.8',\n",
       "  'cover_url': 'https://m.media-amazon.com/images/M/MV5BNjk1Njk3YjctMmMyYS00Y2I4LThhMzktN2U0MTMyZTFlYWQ5XkEyXkFqcGdeQXVyODM2ODEzMDA@._V1_.jpg',\n",
       "  'pg': 'R',\n",
       "  'published': '2018-05-15'},\n",
       " {'title': 'The Ranch',\n",
       "  'description': 'The Ranch is a TV series starring Ashton Kutcher, Debra Winger, and Sam Elliott. The son of a Colorado rancher returns home from a semi-pro football career to run the family business.',\n",
       "  'director': 'gall ANonim',\n",
       "  'actors': 'Ashton Kutcher, Debra Winger, Sam Elliott, Grady Lee Richmond',\n",
       "  'rating': '7.6',\n",
       "  'cover_url': 'https://m.media-amazon.com/images/M/MV5BMTYxOTU5ODE0OV5BMl5BanBnXkFtZTgwNzM0MzQ1MDI@._V1_.jpg',\n",
       "  'pg': 'TV-MA',\n",
       "  'published': '2016-04-01'},\n",
       " {'title': 'A Christmas Story',\n",
       "  'description': 'A Christmas Story is a movie starring Peter Billingsley, Melinda Dillon, and Darren McGavin. In the 1940s, a young boy named Ralphie attempts to convince his parents, his teacher and Santa that a Red Ryder BB gun really is the...',\n",
       "  'director': 'Bob Clark',\n",
       "  'actors': 'Peter Billingsley, Melinda Dillon, Darren McGavin, Scott Schwartz',\n",
       "  'rating': '8.0',\n",
       "  'cover_url': 'https://m.media-amazon.com/images/M/MV5BOWMyNjE0MzEtMzVjNy00NjIxLTg0ZjMtMWJhNGI1YmVjYTczL2ltYWdlXkEyXkFqcGdeQXVyNzc5MjA3OA@@._V1_.jpg',\n",
       "  'pg': 'PG',\n",
       "  'published': '1983-11-18'},\n",
       " {'title': 'The Happytime Murders',\n",
       "  'description': \"The Happytime Murders is a movie starring Melissa McCarthy, Elizabeth Banks, and Maya Rudolph. When the puppet cast of a '90s children's TV show begin to get murdered one by one, a disgraced LAPD detective-turned-private eye puppet...\",\n",
       "  'director': 'Brian Henson',\n",
       "  'actors': 'Melissa McCarthy, Elizabeth Banks, Maya Rudolph, Leslie David Baker',\n",
       "  'rating': '5.3',\n",
       "  'cover_url': 'https://m.media-amazon.com/images/M/MV5BOTRjMTczMGItMmYxMi00ZThlLTg2ZjAtODgyZTNkN2VmMDlhXkEyXkFqcGdeQXVyNzQwNjY4NTg@._V1_.jpg',\n",
       "  'pg': 'R',\n",
       "  'published': '2018-08-22'},\n",
       " {'title': 'A Christmas Prince',\n",
       "  'description': 'A Christmas Prince is a movie starring Rose McIver, Ben Lamb, and Alice Krige. When a reporter goes undercover as a tutor to get the inside scoop on a playboy prince, she gets tangled in some royal intrigue and ends up finding love...',\n",
       "  'director': 'Alex Zamm',\n",
       "  'actors': 'Rose McIver, Ben Lamb, Alice Krige, Honor Kneafsey',\n",
       "  'rating': '5.7',\n",
       "  'cover_url': 'https://m.media-amazon.com/images/M/MV5BNWMzZTE4NTYtOGRiNi00YzQ2LWJiNjctMzk1NDU4NmY5ZGQwXkEyXkFqcGdeQXVyODIyMzA4NDc@._V1_.jpg',\n",
       "  'pg': 'TV-PG',\n",
       "  'published': '2017-11-17'},\n",
       " {'title': 'The Simpsons',\n",
       "  'description': 'The Simpsons is a TV series starring Dan Castellaneta, Nancy Cartwright, and Harry Shearer. The satiric adventures of a working-class family in the misfit city of Springfield.',\n",
       "  'director': 'gall ANonim',\n",
       "  'actors': 'Dan Castellaneta, Nancy Cartwright, Harry Shearer, Julie Kavner',\n",
       "  'rating': '8.7',\n",
       "  'cover_url': 'https://m.media-amazon.com/images/M/MV5BYjFkMTlkYWUtZWFhNy00M2FmLThiOTYtYTRiYjVlZWYxNmJkXkEyXkFqcGdeQXVyNTAyODkwOQ@@._V1_.jpg',\n",
       "  'pg': 'TV-PG',\n",
       "  'published': '1989-12-17'},\n",
       " {'title': 'The House That Jack Built',\n",
       "  'description': 'The House That Jack Built is a movie starring Matt Dillon, Bruno Ganz, and Uma Thurman. The story follows Jack, a highly intelligent serial killer, over the course of twelve years, and depicts the murders that really develop his...',\n",
       "  'director': 'Lars von Trier',\n",
       "  'actors': 'Matt Dillon, Bruno Ganz, Uma Thurman, Siobhan Fallon Hogan',\n",
       "  'rating': '7.4',\n",
       "  'cover_url': 'https://m.media-amazon.com/images/M/MV5BNDQ4Y2E5ODktODI5ZS00ZGVkLTgyZTEtNWY1ZjNiZTFjOTE3XkEyXkFqcGdeQXVyODY3Nzc0OTk@._V1_.jpg',\n",
       "  'pg': 'R',\n",
       "  'published': '2018-10-04'},\n",
       " {'title': 'Ant-Man and the Wasp',\n",
       "  'description': 'Ant-Man and the Wasp is a movie starring Paul Rudd, Evangeline Lilly, and Michael Peña. As Scott Lang balances being both a Super Hero and a father, Hope van Dyne and Dr. Hank Pym present an urgent new mission that finds the Ant-Man...',\n",
       "  'director': 'Peyton Reed',\n",
       "  'actors': 'Paul Rudd, Evangeline Lilly, Michael Peña, Walton Goggins',\n",
       "  'rating': '7.2',\n",
       "  'cover_url': 'https://m.media-amazon.com/images/M/MV5BYjcyYTk0N2YtMzc4ZC00Y2E0LWFkNDgtNjE1MzZmMGE1YjY1XkEyXkFqcGdeQXVyMTMxODk2OTU@._V1_.jpg',\n",
       "  'pg': '13',\n",
       "  'published': '2018-07-04'},\n",
       " {'title': 'Young Sheldon',\n",
       "  'description': 'Young Sheldon is a TV series starring Iain Armitage, Zoe Perry, and Lance Barber. Meet a child genius named Sheldon Cooper; (already seen as an adult in The Big Bang Theory (2007)) and his family. Some unique challenges face Sheldon...',\n",
       "  'director': 'gall ANonim',\n",
       "  'actors': 'Iain Armitage, Zoe Perry, Lance Barber, Montana Jordan',\n",
       "  'rating': '7.2',\n",
       "  'cover_url': 'https://m.media-amazon.com/images/M/MV5BZDg3MGNhYjItZGU2Yi00MzU4LWE4NGUtYjA2OTVjNGUyMjE4XkEyXkFqcGdeQXVyNjg4NzAyOTA@._V1_.jpg',\n",
       "  'pg': 'TV-PG',\n",
       "  'published': '2017-09-25'},\n",
       " {'title': 'A Simple Favor',\n",
       "  'description': 'A Simple Favor is a movie starring Anna Kendrick, Blake Lively, and Henry Golding. Stephanie is a single mother with a parenting vlog who befriends Emily, a secretive upper-class woman who has a child at the same elementary school....',\n",
       "  'director': 'Paul Feig',\n",
       "  'actors': 'Anna Kendrick, Blake Lively, Henry Golding, Andrew Rannells',\n",
       "  'rating': '7.1',\n",
       "  'cover_url': 'https://m.media-amazon.com/images/M/MV5BZjFiMGNiNmItMzNiNi00Mjc1LTg1N2YtNWE2NTE5N2VlZTQ3XkEyXkFqcGdeQXVyMTMxODk2OTU@._V1_.jpg',\n",
       "  'pg': 'R',\n",
       "  'published': '2018-09-12'},\n",
       " {'title': 'Suits',\n",
       "  'description': \"Suits is a TV series starring Gabriel Macht, Patrick J. Adams, and Meghan Markle. On the run from a drug deal gone bad, Mike Ross, a brilliant college dropout, finds himself a job working with Harvey Specter, one of New York City's...\",\n",
       "  'director': 'gall ANonim',\n",
       "  'actors': 'Gabriel Macht, Patrick J. Adams, Meghan Markle, Sarah Rafferty',\n",
       "  'rating': '8.6',\n",
       "  'cover_url': 'https://m.media-amazon.com/images/M/MV5BMTk1MjYzOTU2Nl5BMl5BanBnXkFtZTgwMzAxMTg5MTE@._V1_.jpg',\n",
       "  'pg': 'TV-14',\n",
       "  'published': '2011-06-23'},\n",
       " {'title': 'Big Mouth',\n",
       "  'description': 'Big Mouth is a TV series starring Nick Kroll, John Mulaney, and Fred Armisen. Teenage friends find their lives upended by the wonders and horrors of puberty.',\n",
       "  'director': 'gall ANonim',\n",
       "  'actors': 'Nick Kroll, John Mulaney, Fred Armisen, Jessi Klein',\n",
       "  'rating': '8.1',\n",
       "  'cover_url': 'https://m.media-amazon.com/images/M/MV5BNjUxODY4ODMzNF5BMl5BanBnXkFtZTgwNDQ4Nzk1NjM@._V1_.jpg',\n",
       "  'pg': 'TV-MA',\n",
       "  'published': '2017-09-29'},\n",
       " {'title': \"Bob's Burgers\",\n",
       "  'description': \"Bob's Burgers is a TV series starring H. Jon Benjamin, Dan Mintz, and Eugene Mirman. Bob Belcher, along with his wife and 3 children, try to run their last hope of holding the family together, which is running Bob's dream restaurant.\",\n",
       "  'director': 'gall ANonim',\n",
       "  'actors': 'H. Jon Benjamin, Dan Mintz, Eugene Mirman, John Roberts',\n",
       "  'rating': '8.1',\n",
       "  'cover_url': 'https://m.media-amazon.com/images/M/MV5BZGJiNmM1NDctNWUxYS00YzE4LWJjNTgtYTJhYzE0NjFmMTMwXkEyXkFqcGdeQXVyNTAyODkwOQ@@._V1_.jpg',\n",
       "  'pg': 'TV-PG',\n",
       "  'published': '2011-01-09'},\n",
       " {'title': 'Life-Size 2',\n",
       "  'description': \"Life-Size 2 is a TV movie starring Tyra Banks, Francia Raisa, and Gavin Stenhouse. Grace is a hot mess in the middle of a quarter-life crisis, realizing that she is in over her head as a toy company's CEO. To make it worse, her...\",\n",
       "  'director': 'Steven K. Tsuchida',\n",
       "  'actors': 'Tyra Banks, Francia Raisa, Gavin Stenhouse, Hank Chen',\n",
       "  'rating': '5.3',\n",
       "  'cover_url': 'https://m.media-amazon.com/images/M/MV5BMzE3ODUxNjcwMF5BMl5BanBnXkFtZTgwMTExNTU3NjM@._V1_.jpg',\n",
       "  'pg': 'TV-14',\n",
       "  'published': '2018-12-02'}]"
      ]
     },
     "execution_count": 20,
     "metadata": {},
     "output_type": "execute_result"
    }
   ],
   "source": [
    "list(items)"
   ]
  },
  {
   "cell_type": "code",
   "execution_count": 21,
   "metadata": {},
   "outputs": [],
   "source": [
    "with open('movies.json', 'w+') as f:\n",
    "    json.dump(list(items), f)"
   ]
  },
  {
   "cell_type": "code",
   "execution_count": null,
   "metadata": {},
   "outputs": [],
   "source": []
  }
 ],
 "metadata": {
  "kernelspec": {
   "display_name": "Python 3",
   "language": "python",
   "name": "python3"
  },
  "language_info": {
   "codemirror_mode": {
    "name": "ipython",
    "version": 3
   },
   "file_extension": ".py",
   "mimetype": "text/x-python",
   "name": "python",
   "nbconvert_exporter": "python",
   "pygments_lexer": "ipython3",
   "version": "3.7.0"
  }
 },
 "nbformat": 4,
 "nbformat_minor": 2
}
